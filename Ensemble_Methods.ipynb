{
  "nbformat": 4,
  "nbformat_minor": 0,
  "metadata": {
    "colab": {
      "name": "Ensemble Methods.ipynb",
      "provenance": [],
      "collapsed_sections": []
    },
    "kernelspec": {
      "display_name": "Python 3",
      "name": "python3"
    }
  },
  "cells": [
    {
      "cell_type": "code",
      "metadata": {
        "id": "VmTVrv8pYs9J"
      },
      "source": [
        "import networkx as nx\r\n",
        "import numpy as np\r\n",
        "import matplotlib.pyplot as plt\r\n",
        "from graphload import graphload\r\n",
        "from auc_all_methods import similarity_indices"
      ],
      "execution_count": 1,
      "outputs": []
    },
    {
      "cell_type": "code",
      "metadata": {
        "id": "O--QBuGvnetq"
      },
      "source": [
        "G, df, X, Y = graphload(\"usair97.gml\")\r\n",
        "X = np.asarray(X).astype('float32')\r\n",
        "Y = np.asarray(Y).astype('float32')\r\n",
        "from sklearn.model_selection import train_test_split\r\n",
        "X_train, X_test, y_train, y_test = train_test_split(X, Y, test_size=0.3, random_state=1)"
      ],
      "execution_count": 2,
      "outputs": []
    },
    {
      "cell_type": "code",
      "metadata": {
        "id": "cIsCWaW7KsRL",
        "colab": {
          "base_uri": "https://localhost:8080/",
          "height": 402
        },
        "outputId": "24380121-d74a-499f-b613-9f50f9e99894"
      },
      "source": [
        "df"
      ],
      "execution_count": 3,
      "outputs": [
        {
          "output_type": "execute_result",
          "data": {
            "text/html": [
              "<div>\n",
              "<style scoped>\n",
              "    .dataframe tbody tr th:only-of-type {\n",
              "        vertical-align: middle;\n",
              "    }\n",
              "\n",
              "    .dataframe tbody tr th {\n",
              "        vertical-align: top;\n",
              "    }\n",
              "\n",
              "    .dataframe thead th {\n",
              "        text-align: right;\n",
              "    }\n",
              "</style>\n",
              "<table border=\"1\" class=\"dataframe\">\n",
              "  <thead>\n",
              "    <tr style=\"text-align: right;\">\n",
              "      <th></th>\n",
              "      <th>Edges</th>\n",
              "      <th>CN</th>\n",
              "      <th>LHN2</th>\n",
              "      <th>CBL</th>\n",
              "      <th>MFI</th>\n",
              "      <th>y</th>\n",
              "    </tr>\n",
              "  </thead>\n",
              "  <tbody>\n",
              "    <tr>\n",
              "      <th>0</th>\n",
              "      <td>(Pago Pago Intl, Los Angeles Intl)</td>\n",
              "      <td>1</td>\n",
              "      <td>3.613812</td>\n",
              "      <td>0.100417</td>\n",
              "      <td>0.008660</td>\n",
              "      <td>1</td>\n",
              "    </tr>\n",
              "    <tr>\n",
              "      <th>1</th>\n",
              "      <td>(Pago Pago Intl, Honolulu Intl)</td>\n",
              "      <td>1</td>\n",
              "      <td>8.881958</td>\n",
              "      <td>0.167910</td>\n",
              "      <td>0.018284</td>\n",
              "      <td>1</td>\n",
              "    </tr>\n",
              "    <tr>\n",
              "      <th>2</th>\n",
              "      <td>(Babelthuap/Koror, Guam Intll)</td>\n",
              "      <td>1</td>\n",
              "      <td>53.280784</td>\n",
              "      <td>0.787553</td>\n",
              "      <td>0.134374</td>\n",
              "      <td>1</td>\n",
              "    </tr>\n",
              "    <tr>\n",
              "      <th>3</th>\n",
              "      <td>(Babelthuap/Koror, Saipan Intl)</td>\n",
              "      <td>1</td>\n",
              "      <td>53.280784</td>\n",
              "      <td>0.803168</td>\n",
              "      <td>0.145380</td>\n",
              "      <td>1</td>\n",
              "    </tr>\n",
              "    <tr>\n",
              "      <th>4</th>\n",
              "      <td>(Guam Intll, Honolulu Intl)</td>\n",
              "      <td>0</td>\n",
              "      <td>4.429884</td>\n",
              "      <td>0.176837</td>\n",
              "      <td>0.013916</td>\n",
              "      <td>1</td>\n",
              "    </tr>\n",
              "    <tr>\n",
              "      <th>...</th>\n",
              "      <td>...</td>\n",
              "      <td>...</td>\n",
              "      <td>...</td>\n",
              "      <td>...</td>\n",
              "      <td>...</td>\n",
              "      <td>...</td>\n",
              "    </tr>\n",
              "    <tr>\n",
              "      <th>4247</th>\n",
              "      <td>(Dallas Love Field, John F Kennedy Intl)</td>\n",
              "      <td>2</td>\n",
              "      <td>0.004110</td>\n",
              "      <td>0.062360</td>\n",
              "      <td>0.003598</td>\n",
              "      <td>0</td>\n",
              "    </tr>\n",
              "    <tr>\n",
              "      <th>4248</th>\n",
              "      <td>(New Hanover Intll, University Of Illinois-Wil...</td>\n",
              "      <td>0</td>\n",
              "      <td>0.001715</td>\n",
              "      <td>0.005161</td>\n",
              "      <td>0.002310</td>\n",
              "      <td>0</td>\n",
              "    </tr>\n",
              "    <tr>\n",
              "      <th>4249</th>\n",
              "      <td>(Ontario Intl, Amarillo Intl)</td>\n",
              "      <td>2</td>\n",
              "      <td>0.014045</td>\n",
              "      <td>0.028807</td>\n",
              "      <td>0.003334</td>\n",
              "      <td>0</td>\n",
              "    </tr>\n",
              "    <tr>\n",
              "      <th>4250</th>\n",
              "      <td>(Dallas Love Field, Sitka)</td>\n",
              "      <td>0</td>\n",
              "      <td>0.000067</td>\n",
              "      <td>-0.027973</td>\n",
              "      <td>0.001229</td>\n",
              "      <td>0</td>\n",
              "    </tr>\n",
              "    <tr>\n",
              "      <th>4251</th>\n",
              "      <td>(Wittman Regional, Tampa Intl)</td>\n",
              "      <td>2</td>\n",
              "      <td>0.013384</td>\n",
              "      <td>0.027090</td>\n",
              "      <td>0.003058</td>\n",
              "      <td>0</td>\n",
              "    </tr>\n",
              "  </tbody>\n",
              "</table>\n",
              "<p>4252 rows × 6 columns</p>\n",
              "</div>"
            ],
            "text/plain": [
              "                                                  Edges  CN  ...       MFI  y\n",
              "0                    (Pago Pago Intl, Los Angeles Intl)   1  ...  0.008660  1\n",
              "1                       (Pago Pago Intl, Honolulu Intl)   1  ...  0.018284  1\n",
              "2                        (Babelthuap/Koror, Guam Intll)   1  ...  0.134374  1\n",
              "3                       (Babelthuap/Koror, Saipan Intl)   1  ...  0.145380  1\n",
              "4                           (Guam Intll, Honolulu Intl)   0  ...  0.013916  1\n",
              "...                                                 ...  ..  ...       ... ..\n",
              "4247           (Dallas Love Field, John F Kennedy Intl)   2  ...  0.003598  0\n",
              "4248  (New Hanover Intll, University Of Illinois-Wil...   0  ...  0.002310  0\n",
              "4249                      (Ontario Intl, Amarillo Intl)   2  ...  0.003334  0\n",
              "4250                         (Dallas Love Field, Sitka)   0  ...  0.001229  0\n",
              "4251                     (Wittman Regional, Tampa Intl)   2  ...  0.003058  0\n",
              "\n",
              "[4252 rows x 6 columns]"
            ]
          },
          "metadata": {
            "tags": []
          },
          "execution_count": 3
        }
      ]
    },
    {
      "cell_type": "code",
      "metadata": {
        "id": "7u4gP6ENph0k"
      },
      "source": [
        "# make a prediction with a stacking ensemble\r\n",
        "from sklearn.datasets import make_classification\r\n",
        "from sklearn.ensemble import StackingClassifier\r\n",
        "from sklearn.linear_model import LogisticRegression\r\n",
        "import xgboost as xgb\r\n",
        "from sklearn.model_selection import cross_val_score\r\n",
        "from sklearn.model_selection import RepeatedStratifiedKFold\r\n",
        "from numpy import mean\r\n",
        "\r\n",
        "# define the base models\r\n",
        "def get_stack():\r\n",
        "  level0 = list()\r\n",
        "  level0.append(('lr',  LogisticRegression(random_state=4, solver='liblinear', max_iter=500, verbose=1)))\r\n",
        "  level0.append(('xgb', xgb.XGBClassifier(objective= 'binary:logistic', eval_metric='auc', booster='gbtree', verbosity=1, subsample=0.5, learning_rate=0.4, n_estimators=100)))\r\n",
        "# define meta learner model\r\n",
        "  level1 =  LogisticRegression(random_state=2, solver='liblinear', max_iter=500, verbose=1)\r\n",
        "# define the stacking ensemble\r\n",
        "  model = StackingClassifier(estimators=level0, final_estimator=level1, cv=5)\r\n",
        "  return model\r\n",
        "\r\n",
        "# evaluate a give model using cross-validation\r\n",
        "def evaluate_model(model, X, y):\r\n",
        "\tcv = RepeatedStratifiedKFold(n_splits=10, n_repeats=3, random_state=1)\r\n",
        "\tscores = cross_val_score(model, X, y, scoring='accuracy', cv=cv, n_jobs=-1, error_score='raise')\r\n",
        "\treturn scores\r\n",
        "  \r\n",
        "# get a list of models to evaluate\r\n",
        "def get_models():\r\n",
        "\tmodels = dict()\r\n",
        "\tmodels['lr'] = LogisticRegression(random_state=4, solver='liblinear', max_iter=500, verbose=1)\r\n",
        "\tmodels['xgb'] = xgb.XGBClassifier(objective= 'binary:logistic', eval_metric='auc', booster='gbtree', verbosity=1, subsample=0.5, learning_rate=0.4, n_estimators=100)\r\n",
        "\tmodels['stacking'] = get_stack()\r\n",
        "\treturn models\r\n"
      ],
      "execution_count": 4,
      "outputs": []
    },
    {
      "cell_type": "code",
      "metadata": {
        "colab": {
          "base_uri": "https://localhost:8080/"
        },
        "id": "eJ0eOhTK0YGI",
        "outputId": "4f1a8987-9dfe-4b81-825e-ae3b28cbed03"
      },
      "source": [
        "models = get_models()\r\n",
        "score = {}\r\n",
        "for name, model in models.items():\r\n",
        "  model.fit(X_train, y_train)\r\n",
        "  score[name] = model.score(X_test, y_test)"
      ],
      "execution_count": 5,
      "outputs": [
        {
          "output_type": "stream",
          "text": [
            "/usr/local/lib/python3.6/dist-packages/sklearn/utils/validation.py:760: DataConversionWarning: A column-vector y was passed when a 1d array was expected. Please change the shape of y to (n_samples, ), for example using ravel().\n",
            "  y = column_or_1d(y, warn=True)\n",
            "/usr/local/lib/python3.6/dist-packages/sklearn/preprocessing/_label.py:235: DataConversionWarning: A column-vector y was passed when a 1d array was expected. Please change the shape of y to (n_samples, ), for example using ravel().\n",
            "  y = column_or_1d(y, warn=True)\n",
            "/usr/local/lib/python3.6/dist-packages/sklearn/preprocessing/_label.py:268: DataConversionWarning: A column-vector y was passed when a 1d array was expected. Please change the shape of y to (n_samples, ), for example using ravel().\n",
            "  y = column_or_1d(y, warn=True)\n"
          ],
          "name": "stderr"
        },
        {
          "output_type": "stream",
          "text": [
            "[LibLinear][LibLinear][LibLinear][LibLinear][LibLinear][LibLinear][LibLinear][LibLinear]"
          ],
          "name": "stdout"
        }
      ]
    },
    {
      "cell_type": "code",
      "metadata": {
        "colab": {
          "base_uri": "https://localhost:8080/",
          "height": 312
        },
        "id": "SQUE1ZBS_4lO",
        "outputId": "29c4ad40-68f7-48a8-c906-2acbe8a47c84"
      },
      "source": [
        "xgb.plot_importance(models['xgb']).set_yticklabels(['CN','LHN2', 'CBL', 'MFI'])"
      ],
      "execution_count": 6,
      "outputs": [
        {
          "output_type": "execute_result",
          "data": {
            "text/plain": [
              "[Text(0, 0, 'CN'), Text(0, 0, 'LHN2'), Text(0, 0, 'CBL'), Text(0, 0, 'MFI')]"
            ]
          },
          "metadata": {
            "tags": []
          },
          "execution_count": 6
        },
        {
          "output_type": "display_data",
          "data": {
            "image/png": "[encoded data removed]",
            "text/plain": [
              "<Figure size 432x288 with 1 Axes>"
            ]
          },
          "metadata": {
            "tags": [],
            "needs_background": "light"
          }
        }
      ]
    },
    {
      "cell_type": "code",
      "metadata": {
        "id": "GtbswhEHAlI3",
        "colab": {
          "base_uri": "https://localhost:8080/"
        },
        "outputId": "47b2813f-6999-444a-b260-7eceabf163a1"
      },
      "source": [
        "df2 = similarity_indices(G)"
      ],
      "execution_count": 7,
      "outputs": [
        {
          "output_type": "stream",
          "text": [
            "0.013441106338565096\n"
          ],
          "name": "stdout"
        },
        {
          "output_type": "stream",
          "text": [
            "/usr/local/lib/python3.6/dist-packages/numpy/core/fromnumeric.py:3373: RuntimeWarning: Mean of empty slice.\n",
            "  out=out, **kwargs)\n",
            "/usr/local/lib/python3.6/dist-packages/numpy/core/_methods.py:170: RuntimeWarning: invalid value encountered in double_scalars\n",
            "  ret = ret.dtype.type(ret / rcount)\n",
            "/content/auc_all_methods.py:243: RuntimeWarning: invalid value encountered in sqrt\n",
            "  edgesWithScore[e] = float(sim[x][y])/np.sqrt(sim[x][x] * sim[y][y])\n"
          ],
          "name": "stderr"
        }
      ]
    },
    {
      "cell_type": "code",
      "metadata": {
        "id": "90KON5QY-Sy2"
      },
      "source": [
        "from sklearn.metrics import precision_score\r\n",
        "from sklearn.metrics import recall_score\r\n",
        "from sklearn.metrics import accuracy_score\r\n",
        "from sklearn.metrics import f1_score\r\n",
        "from sklearn.metrics import auc\r\n",
        "from sklearn.metrics import roc_curve\r\n",
        "from sklearn.metrics import precision_recall_curve\r\n",
        "from sklearn.metrics import roc_auc_score\r\n",
        "y_pred_stack = models['stacking'].predict(X_test)\r\n",
        "y_pred_xgb = models['xgb'].predict(X_test)\r\n",
        "y_pred_lr = models['lr'].predict(X_test)\r\n",
        "fpr1, tpr1, thresholds1 = roc_curve(y_test, y_pred_lr)\r\n",
        "fpr2, tpr2, thresholds2 = roc_curve(y_test, y_pred_xgb)\r\n",
        "fpr3, tpr3, thresholds3 = roc_curve(y_test, y_pred_stack)\r\n",
        "fpr4, tpr4, thresholds4 = precision_recall_curve(y_test, y_pred_lr)\r\n",
        "fpr5, tpr5, thresholds5 = precision_recall_curve(y_test, y_pred_xgb)\r\n",
        "fpr6, tpr6, thresholds6 = precision_recall_curve(y_test, y_pred_stack)"
      ],
      "execution_count": 8,
      "outputs": []
    },
    {
      "cell_type": "code",
      "metadata": {
        "colab": {
          "base_uri": "https://localhost:8080/"
        },
        "id": "lwHfqF5c3fnI",
        "outputId": "913763fe-dac8-467d-a6f8-054bdad11bda"
      },
      "source": [
        "accuracy_score(y_test, y_pred_lr).round()"
      ],
      "execution_count": 9,
      "outputs": [
        {
          "output_type": "execute_result",
          "data": {
            "text/plain": [
              "1.0"
            ]
          },
          "metadata": {
            "tags": []
          },
          "execution_count": 9
        }
      ]
    },
    {
      "cell_type": "code",
      "metadata": {
        "colab": {
          "base_uri": "https://localhost:8080/"
        },
        "id": "FM0aOwNi3kyV",
        "outputId": "a2d82b8c-df27-4f89-fcd0-af98ee58a69e"
      },
      "source": [
        "auc(fpr4, tpr4)"
      ],
      "execution_count": 10,
      "outputs": [
        {
          "output_type": "execute_result",
          "data": {
            "text/plain": [
              "0.4837085606273593"
            ]
          },
          "metadata": {
            "tags": []
          },
          "execution_count": 10
        }
      ]
    },
    {
      "cell_type": "code",
      "metadata": {
        "id": "68XSU2pPEjB_"
      },
      "source": [
        "# df2['lr'] = [auc(fpr1, tpr1),accuracy_score(y_test, y_pred_lr), float(auc(fpr4, tpr4))]\n",
        "df2['xgb'] = [auc(fpr2, tpr2),accuracy_score(y_test, y_pred_xgb), auc(fpr5, tpr5)]\n",
        "df2['ensemble'] = [auc(fpr3, tpr3),accuracy_score(y_test, y_pred_stack), auc(fpr6, tpr6)]"
      ],
      "execution_count": 11,
      "outputs": []
    },
    {
      "cell_type": "code",
      "metadata": {
        "id": "tuKfPvv1xKri"
      },
      "source": [
        "import pandas as pd\r\n",
        "df3 = pd.DataFrame(columns = ['accuracy', 'auc', 'precision', 'recall', 'f1', 'roc', 'aupr'])\r\n",
        "df3.loc['lr'] = [accuracy_score(y_test, y_pred_lr),auc(fpr1, tpr1), precision_score( y_test, y_pred_lr), recall_score( y_test, y_pred_lr), f1_score( y_test, y_pred_lr), roc_auc_score( y_test, y_pred_lr), auc(fpr4, tpr4) ]\r\n",
        "df3.loc['xgb'] = [accuracy_score(y_test, y_pred_xgb),auc(fpr2, tpr2), precision_score( y_test, y_pred_xgb), recall_score( y_test, y_pred_xgb), f1_score( y_test, y_pred_xgb), roc_auc_score( y_test, y_pred_xgb) , auc(fpr5, tpr5)]\r\n",
        "df3.loc['ensemble'] = [accuracy_score(y_test, y_pred_stack),auc(fpr3, tpr3), precision_score( y_test, y_pred_stack), recall_score( y_test, y_pred_stack), f1_score( y_test, y_pred_stack), roc_auc_score( y_test, y_pred_stack), auc(fpr6, tpr6) ]"
      ],
      "execution_count": 12,
      "outputs": []
    },
    {
      "cell_type": "code",
      "metadata": {
        "colab": {
          "base_uri": "https://localhost:8080/"
        },
        "id": "Muh7aPgqE36n",
        "outputId": "12d9253e-d2b4-466c-bdd0-72235c8c1f7e"
      },
      "source": [
        "import pandas as pd\r\n",
        "pd.set_option(\"display.max_rows\", 4, \"display.max_columns\", 14)\r\n",
        "print(df2)"
      ],
      "execution_count": 13,
      "outputs": [
        {
          "output_type": "stream",
          "text": [
            "                cn   jaccard      lhn1      katz  lhn2       cbl       mfi  \\\n",
            "auc       0.956214  0.917105  0.792196  0.942298   NaN  0.910735  0.941264   \n",
            "accuracy  0.967685  0.917761  0.792698  0.942298   NaN  0.910735  0.941265   \n",
            "aupr      0.976266  0.998568  0.998733  0.999999   NaN  1.000000  0.999997   \n",
            "\n",
            "          localpath        l3       xgb  ensemble  \n",
            "auc        0.947080  0.134214  0.998432  0.997632  \n",
            "accuracy   0.947613  0.135630  0.998433  0.997649  \n",
            "aupr       0.998864  0.979331  0.488668  0.487902  \n"
          ],
          "name": "stdout"
        }
      ]
    },
    {
      "cell_type": "code",
      "metadata": {
        "colab": {
          "base_uri": "https://localhost:8080/"
        },
        "id": "v1iNh1ZAyrVY",
        "outputId": "4279771c-b0de-4590-fdc7-e417254a5dc4"
      },
      "source": [
        "import pandas as pd\r\n",
        "pd.set_option(\"display.max_rows\", 4, \"display.max_columns\", 14)\r\n",
        "print(df3)"
      ],
      "execution_count": 14,
      "outputs": [
        {
          "output_type": "stream",
          "text": [
            "          accuracy       auc  precision    recall        f1       roc  \\\n",
            "lr        0.991379  0.991392   0.992308  0.990783  0.991545  0.991392   \n",
            "xgb       0.998433  0.998432   0.998464  0.998464  0.998464  0.998432   \n",
            "ensemble  0.997649  0.997632   0.996933  0.998464  0.997698  0.997632   \n",
            "\n",
            "              aupr  \n",
            "lr        0.483709  \n",
            "xgb       0.488668  \n",
            "ensemble  0.487902  \n"
          ],
          "name": "stdout"
        }
      ]
    },
    {
      "cell_type": "code",
      "metadata": {
        "id": "cDJhOUv0z64d"
      },
      "source": [
        "with pd.ExcelWriter('output.xlsx') as writer:  \r\n",
        "    df2.to_excel(writer, sheet_name='similarity')\r\n",
        "    df3.to_excel(writer, sheet_name='eval_metric')"
      ],
      "execution_count": 15,
      "outputs": []
    },
    {
      "cell_type": "code",
      "metadata": {
        "id": "8ypgkfVm0U6R"
      },
      "source": [
        ""
      ],
      "execution_count": 15,
      "outputs": []
    }
  ]
}